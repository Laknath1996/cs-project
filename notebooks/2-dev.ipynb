{
 "cells": [
  {
   "cell_type": "code",
   "execution_count": 84,
   "metadata": {},
   "outputs": [],
   "source": [
    "from transformers import RobertaModel\n",
    "from transformers import logging\n",
    "logging.set_verbosity_error()\n",
    "from lora.layers.vanilla import Linear\n",
    "from omegaconf import OmegaConf\n",
    "from lora.models.roberta import get_model"
   ]
  },
  {
   "cell_type": "code",
   "execution_count": 85,
   "metadata": {},
   "outputs": [],
   "source": [
    "def count_parameters(model):\n",
    "    return sum(p.numel() for p in model.parameters() if p.requires_grad)"
   ]
  },
  {
   "cell_type": "code",
   "execution_count": 86,
   "metadata": {},
   "outputs": [
    {
     "name": "stdout",
     "output_type": "stream",
     "text": [
      "method: full-ft, #params: 125237762\n",
      "method: partial-ft, #params: 592130\n",
      "method: lora-ft, #params: 887042\n"
     ]
    }
   ],
   "source": [
    "methods = ['full-ft', 'partial-ft', 'lora-ft']\n",
    "args = OmegaConf.load('../config.yaml')\n",
    "\n",
    "for method in methods:\n",
    "    args.run = method\n",
    "    model = get_model(args)\n",
    "    print(f\"method: {method}, #params: {count_parameters(model)}\")"
   ]
  }
 ],
 "metadata": {
  "kernelspec": {
   "display_name": "myllm",
   "language": "python",
   "name": "python3"
  },
  "language_info": {
   "codemirror_mode": {
    "name": "ipython",
    "version": 3
   },
   "file_extension": ".py",
   "mimetype": "text/x-python",
   "name": "python",
   "nbconvert_exporter": "python",
   "pygments_lexer": "ipython3",
   "version": "3.9.19"
  }
 },
 "nbformat": 4,
 "nbformat_minor": 2
}
