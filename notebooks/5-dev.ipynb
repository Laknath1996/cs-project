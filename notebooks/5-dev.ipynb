{
 "cells": [
  {
   "cell_type": "code",
   "execution_count": 49,
   "metadata": {},
   "outputs": [],
   "source": [
    "from lora.models.roberta_scratch import get_model\n",
    "\n",
    "from lora.compress.gregodec import GreGoDec\n",
    "from lora.compress.tsvd import TSVD\n",
    "\n",
    "from omegaconf import OmegaConf\n",
    "from transformers import RobertaTokenizer\n",
    "from datasets import load_dataset\n",
    "from torch.utils.data import DataLoader\n",
    "import scipy as scp\n",
    "import matplotlib.pyplot as plt\n",
    "import numpy as np\n",
    "import torch\n",
    "import torch.nn as nn\n",
    "import math\n",
    "from copy import deepcopy\n",
    "from tqdm import tqdm\n",
    "import matplotlib\n",
    "font = {'size':16}\n",
    "matplotlib.rc('font', **font)\n",
    "matplotlib.rcParams['figure.facecolor'] = 'white'\n",
    "import matplotlib.pyplot as plt\n",
    "from matplotlib.ticker import MaxNLocator"
   ]
  },
  {
   "cell_type": "code",
   "execution_count": 32,
   "metadata": {},
   "outputs": [],
   "source": [
    "class SelfAttention(nn.Module):\n",
    "    def __init__(self, config, rank=1):\n",
    "        super().__init__()\n",
    "        self.num_attention_heads = config.num_attention_heads\n",
    "        self.attention_head_size = int(config.hidden_size / config.num_attention_heads)\n",
    "        self.all_head_size = self.num_attention_heads * self.attention_head_size\n",
    "\n",
    "        # self.B = torch.randn((config.hidden_size+1, config.hidden_size+1))\n",
    "\n",
    "        self.U = torch.nn.Parameter(\n",
    "            data=torch.randn((config.hidden_size+1, rank)),\n",
    "            requires_grad=False\n",
    "        )\n",
    "        self.V = torch.nn.Parameter(\n",
    "            data=torch.randn((rank, config.hidden_size+1)),\n",
    "            requires_grad=False\n",
    "        )\n",
    "        self.S = torch.nn.Parameter(\n",
    "            data=torch.randn((config.hidden_size+1, config.hidden_size+1)),\n",
    "            requires_grad=False\n",
    "        )\n",
    "\n",
    "        self.value = nn.Linear(config.hidden_size, self.all_head_size)\n",
    "\n",
    "        self.dropout = nn.Dropout(config.attention_probs_dropout_prob)\n",
    "\n",
    "    def transpose_for_scores(self, x):\n",
    "        new_x_shape = x.size()[:-1] + (self.num_attention_heads, self.attention_head_size)\n",
    "        x = x.view(*new_x_shape)\n",
    "        return x.permute(0, 2, 1, 3)\n",
    "\n",
    "    def forward(\n",
    "        self,\n",
    "        hidden_states,\n",
    "        attention_mask=None,\n",
    "        head_mask=None,\n",
    "        encoder_hidden_states=None,\n",
    "        encoder_attention_mask=None,\n",
    "        past_key_value=None,\n",
    "        output_attentions=False,\n",
    "    ):\n",
    "        value_layer = self.value(hidden_states)\n",
    "\n",
    "        # Take the dot product between \"query\" and \"key\" to get the raw attention scores.\n",
    "        X = torch.cat((hidden_states, torch.ones_like(hidden_states)[:, :, :1]), axis=-1)\n",
    "        M = torch.matmul(self.U, self.V) + self.S\n",
    "        attention_scores = torch.matmul(\n",
    "                torch.matmul(X, M),\n",
    "                X.transpose(-1, -2)\n",
    "            )\n",
    "\n",
    "        # scale the attention scores\n",
    "        attention_scores = attention_scores / math.sqrt(self.attention_head_size)\n",
    "\n",
    "        if attention_mask is not None:\n",
    "            # Apply the attention mask is (precomputed for all layers in RobertaModel forward() function)\n",
    "            attention_scores = attention_scores + attention_mask.view(attention_scores.shape[0], 1, attention_scores.shape[-1])\n",
    "\n",
    "        # Normalize the attention scores to probabilities.\n",
    "        attention_probs = nn.Softmax(dim=-1)(attention_scores)\n",
    "\n",
    "        # This is actually dropping out entire tokens to attend to, which might\n",
    "        # seem a bit unusual, but is taken from the original Transformer paper.\n",
    "        attention_probs = self.dropout(attention_probs)\n",
    "\n",
    "        # Mask heads if we want to\n",
    "        if head_mask is not None:\n",
    "            attention_probs = attention_probs * head_mask\n",
    "\n",
    "        context_layer = torch.matmul(attention_probs, value_layer)\n",
    "\n",
    "        outputs = (context_layer, attention_probs) if output_attentions else (context_layer,)\n",
    "\n",
    "        return outputs\n"
   ]
  },
  {
   "cell_type": "code",
   "execution_count": 42,
   "metadata": {},
   "outputs": [],
   "source": [
    "def get_approx_matrix(W, target_rank, type, return_approx=False):\n",
    "    if type == 'gregodec':\n",
    "        if target_rank <= 10:\n",
    "            k = 1\n",
    "        if target_rank <= 100:\n",
    "            k = 10\n",
    "        else: \n",
    "            k = 100\n",
    "        U, V, S, _ = GreGoDec(\n",
    "            D = W,\n",
    "            rank = target_rank,\n",
    "            tau = 0.001,\n",
    "            tol = 0.001, \n",
    "            power = 100,\n",
    "            k = k\n",
    "        ).fit()\n",
    "        if return_approx:\n",
    "            return U @ V + S\n",
    "        else:\n",
    "            return U, V, S\n",
    "    elif type == 'tsvd':\n",
    "        U, V = TSVD(\n",
    "            D=W,\n",
    "            rank=target_rank\n",
    "        ).fit()\n",
    "        if return_approx:\n",
    "            return U @ V\n",
    "        else:\n",
    "            return U, V, np.zeros_like(W)\n",
    "    else:\n",
    "        raise NotImplementedError\n",
    "\n",
    "def get_approx_model(model, rank, type):\n",
    "    approx_model = deepcopy(model)\n",
    "    if rank == 769:\n",
    "        return approx_model\n",
    "    else:\n",
    "        for i in range(model.roberta_encoder.config.num_hidden_layers):\n",
    "            old = approx_model.roberta_encoder.encoder.layer[i].attention.self\n",
    "\n",
    "            # get the original B matrix\n",
    "            Wq = torch.vstack([old.query.weight.transpose(0, 1), old.query.bias]).cpu()\n",
    "            Wk = torch.vstack([old.key.weight.transpose(0, 1), old.key.bias]).cpu()\n",
    "            B = (Wq @ Wk.T).cpu().detach().numpy()\n",
    "\n",
    "            # approximate\n",
    "            U, V, S = get_approx_matrix(B, target_rank=rank, type=type, return_approx=False)\n",
    "\n",
    "            approx_model.roberta_encoder.encoder.layer[i].attention.self = SelfAttention(model.roberta_encoder.config)\n",
    "            approx_model.roberta_encoder.encoder.layer[i].attention.self.U.data = torch.from_numpy(U).float()\n",
    "            approx_model.roberta_encoder.encoder.layer[i].attention.self.V.data = torch.from_numpy(V).float()\n",
    "            approx_model.roberta_encoder.encoder.layer[i].attention.self.S.data = torch.from_numpy(S).float()\n",
    "            approx_model.roberta_encoder.encoder.layer[i].attention.self.value.weight = old.value.weight\n",
    "            approx_model.roberta_encoder.encoder.layer[i].attention.self.value.bias = old.value.bias\n",
    "        return approx_model\n",
    "\n",
    "def evaluate(model, dataloader, device):\n",
    "    model.eval()\n",
    "    num_correct_preds = 0\n",
    "    num_test_samples = 0\n",
    "    progress = tqdm(enumerate(dataloader), total=len(dataloader))\n",
    "    with torch.no_grad():\n",
    "        for i, data in progress:\n",
    "            ids = data[\"input_ids\"].long().to(device)\n",
    "            token_type_ids = data[\"token_type_ids\"].long().to(device)\n",
    "            masks = data[\"attention_mask\"].long().to(device)\n",
    "            targets = data[\"label\"].long().to(device)\n",
    "            batchsize = len(targets)\n",
    "\n",
    "            outputs = model(ids, masks, token_type_ids)\n",
    "\n",
    "            num_test_samples += batchsize\n",
    "            num_correct_preds += (\n",
    "                (torch.argmax(outputs, axis=1) == targets)\n",
    "                .detach()\n",
    "                .cpu()\n",
    "                .numpy()\n",
    "                .sum()\n",
    "            )\n",
    "\n",
    "            progress.set_description(f\"[{i + 1}/{len(dataloader)}] \")\n",
    "    return num_correct_preds / num_test_samples"
   ]
  },
  {
   "cell_type": "code",
   "execution_count": 43,
   "metadata": {},
   "outputs": [],
   "source": [
    "# load original model\n",
    "args = OmegaConf.load(\"../config.yaml\")\n",
    "weights_path = \"../outputs/2024-04-25/08-40-45/scratch.pth\"\n",
    "device = torch.device(\"cuda:0\" if torch.cuda.is_available() else \"cpu\")\n",
    "\n",
    "model = get_model(args)\n",
    "model.load_state_dict(torch.load(weights_path))\n",
    "\n",
    "# prepare the validation dataset\n",
    "tokenizer = RobertaTokenizer.from_pretrained(\"roberta-base\")\n",
    "dataset = load_dataset(\"nyu-mll/glue\", \"sst2\")\n",
    "dataset = dataset.map(\n",
    "    lambda e: tokenizer(\n",
    "        e[\"sentence\"],\n",
    "        None,\n",
    "        max_length=256,\n",
    "        pad_to_max_length=True,\n",
    "        return_token_type_ids=True,\n",
    "    ),\n",
    "    batched=True,\n",
    ")\n",
    "dataset.set_format(\n",
    "            type=\"torch\",\n",
    "            columns=[\"input_ids\", \"token_type_ids\", \"attention_mask\", \"label\"],\n",
    "        )\n",
    "dataloader = DataLoader(\n",
    "            dataset[\"validation\"],\n",
    "            batch_size=16,\n",
    "            shuffle=False,\n",
    "            num_workers=4\n",
    ")\n"
   ]
  },
  {
   "cell_type": "code",
   "execution_count": 48,
   "metadata": {},
   "outputs": [
    {
     "name": "stdout",
     "output_type": "stream",
     "text": [
      "computing for rank: 1\n"
     ]
    },
    {
     "name": "stderr",
     "output_type": "stream",
     "text": [
      "[55/55] : 100%|██████████| 55/55 [00:02<00:00, 22.47it/s]\n"
     ]
    },
    {
     "name": "stdout",
     "output_type": "stream",
     "text": [
      "computing for rank: 5\n"
     ]
    },
    {
     "name": "stderr",
     "output_type": "stream",
     "text": [
      "[55/55] : 100%|██████████| 55/55 [00:02<00:00, 20.94it/s]\n"
     ]
    },
    {
     "name": "stdout",
     "output_type": "stream",
     "text": [
      "computing for rank: 10\n"
     ]
    },
    {
     "name": "stderr",
     "output_type": "stream",
     "text": [
      "[55/55] : 100%|██████████| 55/55 [00:02<00:00, 23.28it/s]\n"
     ]
    },
    {
     "name": "stdout",
     "output_type": "stream",
     "text": [
      "computing for rank: 100\n"
     ]
    },
    {
     "name": "stderr",
     "output_type": "stream",
     "text": [
      "[55/55] : 100%|██████████| 55/55 [00:02<00:00, 21.91it/s]\n"
     ]
    },
    {
     "name": "stdout",
     "output_type": "stream",
     "text": [
      "computing for rank: 200\n"
     ]
    },
    {
     "name": "stderr",
     "output_type": "stream",
     "text": [
      "[55/55] : 100%|██████████| 55/55 [00:02<00:00, 21.85it/s]\n"
     ]
    },
    {
     "name": "stdout",
     "output_type": "stream",
     "text": [
      "computing for rank: 300\n"
     ]
    },
    {
     "name": "stderr",
     "output_type": "stream",
     "text": [
      "[55/55] : 100%|██████████| 55/55 [00:02<00:00, 22.27it/s]\n"
     ]
    },
    {
     "name": "stdout",
     "output_type": "stream",
     "text": [
      "computing for rank: 400\n"
     ]
    },
    {
     "name": "stderr",
     "output_type": "stream",
     "text": [
      "[55/55] : 100%|██████████| 55/55 [00:02<00:00, 23.50it/s]\n"
     ]
    },
    {
     "name": "stdout",
     "output_type": "stream",
     "text": [
      "computing for rank: 500\n"
     ]
    },
    {
     "name": "stderr",
     "output_type": "stream",
     "text": [
      "[55/55] : 100%|██████████| 55/55 [00:02<00:00, 22.49it/s]\n"
     ]
    },
    {
     "name": "stdout",
     "output_type": "stream",
     "text": [
      "computing for rank: 700\n"
     ]
    },
    {
     "name": "stderr",
     "output_type": "stream",
     "text": [
      "[55/55] : 100%|██████████| 55/55 [00:02<00:00, 20.79it/s]\n"
     ]
    },
    {
     "name": "stdout",
     "output_type": "stream",
     "text": [
      "computing for rank: 769\n"
     ]
    },
    {
     "name": "stderr",
     "output_type": "stream",
     "text": [
      "[55/55] : 100%|██████████| 55/55 [00:02<00:00, 21.25it/s]\n"
     ]
    }
   ],
   "source": [
    "rank_list = [1, 5, 10, 100, 200, 300, 400, 500, 700, 769]\n",
    "type_list = ['tsvd']\n",
    "acc_list = [[] for _ in range(len(type_list))]\n",
    "\n",
    "for rank in rank_list:\n",
    "    print(f\"computing for rank: {rank}\")\n",
    "    for i, type in enumerate(type_list):\n",
    "        approx_model = get_approx_model(model, rank=rank, type=type)\n",
    "        approx_model.to(device)\n",
    "        acc = evaluate(approx_model, dataloader, device)\n",
    "        acc_list[i].append(acc)"
   ]
  },
  {
   "cell_type": "code",
   "execution_count": 53,
   "metadata": {},
   "outputs": [
    {
     "data": {
      "image/png": "[encoded data removed]",
      "text/plain": [
       "<Figure size 500x500 with 1 Axes>"
      ]
     },
     "metadata": {},
     "output_type": "display_data"
    }
   ],
   "source": [
    "fig, ax = plt.subplots(figsize=(5, 5))\n",
    "colors = ['r']\n",
    "\n",
    "# ax.plot(rank_list, acc_list[-1] * np.ones(len(rank_list)), ls='dashed', color='black', label='original model')\n",
    "\n",
    "for i, type in enumerate(type_list):\n",
    "    ax.plot(rank_list, acc_list[i], marker='o', ms=5, color=colors[i], label=type)\n",
    "\n",
    "ax.plot(rank_list, acc_list[0][-1] * np.ones(len(rank_list)), ls='dashed', color='black', label='original model')\n",
    "\n",
    "ax.set_xlabel(\"rank\")\n",
    "ax.set_ylabel(\"accuracy\")\n",
    "ax.legend(frameon=False)\n",
    "ax.yaxis.set_major_locator(MaxNLocator(5))\n",
    "ax.set_ylim([0.75, 0.85])\n",
    "plt.show()"
   ]
  },
  {
   "cell_type": "code",
   "execution_count": 55,
   "metadata": {},
   "outputs": [],
   "source": [
    "fig.savefig(\"rank-vs-acc.pdf\", bbox_inches='tight')"
   ]
  },
  {
   "cell_type": "code",
   "execution_count": null,
   "metadata": {},
   "outputs": [],
   "source": [
    "# get the sparse levels"
   ]
  }
 ],
 "metadata": {
  "kernelspec": {
   "display_name": "myllm",
   "language": "python",
   "name": "python3"
  },
  "language_info": {
   "codemirror_mode": {
    "name": "ipython",
    "version": 3
   },
   "file_extension": ".py",
   "mimetype": "text/x-python",
   "name": "python",
   "nbconvert_exporter": "python",
   "pygments_lexer": "ipython3",
   "version": "3.9.19"
  }
 },
 "nbformat": 4,
 "nbformat_minor": 2
}
